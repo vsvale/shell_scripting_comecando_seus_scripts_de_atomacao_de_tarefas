{
 "cells": [
  {
   "cell_type": "code",
   "execution_count": null,
   "metadata": {},
   "outputs": [],
   "source": [
    "mkdir -p shell_course"
   ]
  },
  {
   "cell_type": "code",
   "execution_count": null,
   "metadata": {},
   "outputs": [],
   "source": [
    "cd shell_course"
   ]
  },
  {
   "cell_type": "code",
   "execution_count": null,
   "metadata": {},
   "outputs": [],
   "source": [
    "mkdir -p shell_wk"
   ]
  },
  {
   "cell_type": "code",
   "execution_count": null,
   "metadata": {},
   "outputs": [],
   "source": [
    "cd shell_wk"
   ]
  },
  {
   "cell_type": "code",
   "execution_count": null,
   "metadata": {},
   "outputs": [],
   "source": [
    "!wget -nc 'https://archive.org/compress/capas_livros_casa_do_codigo/formats=JPEG&file=/capas_livros_casa_do_codigo.zip'"
   ]
  },
  {
   "cell_type": "code",
   "execution_count": null,
   "metadata": {},
   "outputs": [],
   "source": [
    "!unzip -oq capas_livros_casa_do_codigo.zip"
   ]
  },
  {
   "cell_type": "code",
   "execution_count": null,
   "metadata": {},
   "outputs": [],
   "source": [
    "rm capas_livros_casa_do_codigo.zip"
   ]
  },
  {
   "cell_type": "code",
   "execution_count": null,
   "metadata": {},
   "outputs": [],
   "source": [
    "cd .."
   ]
  },
  {
   "cell_type": "code",
   "execution_count": null,
   "metadata": {},
   "outputs": [],
   "source": [
    "mkdir -p scripts"
   ]
  },
  {
   "cell_type": "code",
   "execution_count": null,
   "metadata": {},
   "outputs": [],
   "source": [
    "cd scripts"
   ]
  },
  {
   "cell_type": "code",
   "execution_count": null,
   "metadata": {},
   "outputs": [],
   "source": [
    "%%bash\n",
    "echo '#!/bin/bash' > convert-jpg.sh\n",
    "echo 'export PATH=/usr/bin:$PATH' >> convert-jpg.sh\n",
    "echo 'FOLDER=$1' >> convert-jpg.sh\n",
    "echo 'cd $FOLDER' >> convert-jpg.sh\n",
    "echo 'if [ ! -d PNG ]' >> convert-jpg.sh\n",
    "echo 'then' >> convert-jpg.sh\n",
    "echo '  mkdir PNG' >> convert-jpg.sh\n",
    "echo 'fi' >> convert-jpg.sh\n",
    "echo 'for image in *.jpg; do' >> convert-jpg.sh\n",
    "echo '  convert $image $FOLDER/PNG/${image%.jpg}.png' >> convert-jpg.sh\n",
    "echo 'done' >> convert-jpg.sh\n",
    "echo 'exit 0' >> convert-jpg.sh"
   ]
  },
  {
   "cell_type": "code",
   "execution_count": null,
   "metadata": {},
   "outputs": [],
   "source": [
    "!chmod +x convert-jpg.sh"
   ]
  },
  {
   "cell_type": "code",
   "execution_count": null,
   "metadata": {},
   "outputs": [],
   "source": [
    "cat convert-jpg.sh"
   ]
  },
  {
   "cell_type": "code",
   "execution_count": null,
   "metadata": {},
   "outputs": [],
   "source": [
    "%%bash\n",
    "./convert-jpg.sh ../shell_wk 2>erros.txt"
   ]
  },
  {
   "cell_type": "markdown",
   "metadata": {},
   "source": [
    "#### Novos livros"
   ]
  },
  {
   "cell_type": "code",
   "execution_count": null,
   "metadata": {},
   "outputs": [],
   "source": [
    "cd .."
   ]
  },
  {
   "cell_type": "code",
   "execution_count": null,
   "metadata": {},
   "outputs": [],
   "source": [
    "mkdir -p shell_wk_new"
   ]
  },
  {
   "cell_type": "code",
   "execution_count": null,
   "metadata": {},
   "outputs": [],
   "source": [
    "cd shell_wk_new"
   ]
  },
  {
   "cell_type": "code",
   "execution_count": null,
   "metadata": {},
   "outputs": [],
   "source": [
    "!wget -nc 'https://caelum-online-public.s3.amazonaws.com/shell-script/aula_3/imagens-novos-livros.zip'"
   ]
  },
  {
   "cell_type": "code",
   "execution_count": null,
   "metadata": {},
   "outputs": [],
   "source": [
    "!unzip -oq imagens-novos-livros.zip"
   ]
  },
  {
   "cell_type": "code",
   "execution_count": null,
   "metadata": {},
   "outputs": [],
   "source": [
    "rm imagens-novos-livros.zip"
   ]
  },
  {
   "cell_type": "code",
   "execution_count": null,
   "metadata": {},
   "outputs": [],
   "source": [
    "cd ../scripts"
   ]
  },
  {
   "cell_type": "code",
   "execution_count": null,
   "metadata": {},
   "outputs": [],
   "source": [
    "!wget -nc 'https://raw.githubusercontent.com/vsvale/shell_scripting_comecando_seus_scripts_de_atomacao_de_tarefas/main/convert-jpg_v2.sh'"
   ]
  },
  {
   "cell_type": "code",
   "execution_count": null,
   "metadata": {},
   "outputs": [],
   "source": [
    "!chmod +x convert-jpg_v2.sh"
   ]
  },
  {
   "cell_type": "code",
   "execution_count": null,
   "metadata": {},
   "outputs": [],
   "source": [
    "!dos2unix convert-jpg_v2.sh"
   ]
  },
  {
   "cell_type": "code",
   "execution_count": null,
   "metadata": {},
   "outputs": [],
   "source": [
    "%%bash\n",
    "./convert-jpg_v2.sh"
   ]
  },
  {
   "cell_type": "markdown",
   "metadata": {},
   "source": [
    "Os 10 processos que estão consumindo mais memoria"
   ]
  },
  {
   "cell_type": "code",
   "execution_count": null,
   "metadata": {},
   "outputs": [],
   "source": [
    "!ps -e -o pid --sort -size | head -n 11 | grep [0-9]"
   ]
  },
  {
   "cell_type": "code",
   "execution_count": null,
   "metadata": {},
   "outputs": [],
   "source": [
    "!ps -p 198 -o comm="
   ]
  },
  {
   "cell_type": "code",
   "execution_count": null,
   "metadata": {},
   "outputs": [],
   "source": [
    "!date +%F,%h:%M:%s"
   ]
  },
  {
   "cell_type": "code",
   "execution_count": null,
   "metadata": {},
   "outputs": [],
   "source": [
    "!ps -p 198 -o size | grep [0-9]"
   ]
  },
  {
   "cell_type": "code",
   "execution_count": null,
   "metadata": {},
   "outputs": [],
   "source": [
    "!tamanho_processo=$(ps -p 198 -o size | grep [0-9])"
   ]
  },
  {
   "cell_type": "code",
   "execution_count": null,
   "metadata": {},
   "outputs": [],
   "source": [
    "!echo \"$(bc <<< \"scale=2;$tamanho_processo/1024\") MB\""
   ]
  },
  {
   "cell_type": "code",
   "execution_count": null,
   "metadata": {},
   "outputs": [],
   "source": [
    "%%bash\n",
    "echo -n 'oi'\n",
    "echo 'ola'"
   ]
  },
  {
   "cell_type": "code",
   "execution_count": null,
   "metadata": {},
   "outputs": [],
   "source": [
    "cd scripts"
   ]
  },
  {
   "cell_type": "code",
   "execution_count": null,
   "metadata": {},
   "outputs": [],
   "source": [
    "%%bash\n",
    "echo '#!/bin/bash' > top-process.sh\n",
    "echo 'if [ ! -d log ]'  >> top-process.sh\n",
    "echo 'then'  >> top-process.sh\n",
    "echo '    mkdir log'  >> top-process.sh\n",
    "echo 'fi'  >> top-process.sh\n",
    "echo ''  >> top-process.sh\n",
    "echo 'processos=$(ps -e -o pid --sort -size | head -n 11 | grep [0-9])' >> top-process.sh\n",
    "echo 'for pid in $processos' >> top-process.sh\n",
    "echo 'do' >> top-process.sh\n",
    "echo '    nom_processo=$(ps -p $pid -o comm=)' >> top-process.sh\n",
    "echo '    echo -n $nom_processo >> log/$nom_process.log' >> top-process.sh\n",
    "echo '    echo $(date +%F,%H:%M:%S,) >> log/$nom_process.log' >> top-process.sh\n",
    "echo '    tamanho_processo=$(ps -p $pid -o size | grep [0-9])' >> top-process.sh\n",
    "echo '    echo \"$(bc <<< \"scale=2;$tamanho_processo/1024\") MB\" >> log/$nom_processo.log' >> top-process.sh\n",
    "echo 'done' >> top-process.sh"
   ]
  },
  {
   "cell_type": "code",
   "execution_count": null,
   "metadata": {},
   "outputs": [],
   "source": [
    "!chmod +x top-process.sh"
   ]
  },
  {
   "cell_type": "code",
   "execution_count": null,
   "metadata": {},
   "outputs": [],
   "source": [
    "!dos2unix top-process.sh"
   ]
  },
  {
   "cell_type": "code",
   "execution_count": null,
   "metadata": {},
   "outputs": [],
   "source": [
    "%%bash\n",
    "./top-process.sh"
   ]
  }
 ],
 "metadata": {
  "interpreter": {
   "hash": "916dbcbb3f70747c44a77c7bcd40155683ae19c65e1c03b4aa3499c5328201f1"
  },
  "kernelspec": {
   "display_name": "Python 3.8.10 64-bit",
   "language": "python",
   "name": "python3"
  },
  "language_info": {
   "codemirror_mode": {
    "name": "ipython",
    "version": 3
   },
   "file_extension": ".py",
   "mimetype": "text/x-python",
   "name": "python",
   "nbconvert_exporter": "python",
   "pygments_lexer": "ipython3",
   "version": "3.8.10"
  },
  "orig_nbformat": 4
 },
 "nbformat": 4,
 "nbformat_minor": 2
}
